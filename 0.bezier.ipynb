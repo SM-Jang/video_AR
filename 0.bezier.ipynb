{
 "cells": [
  {
   "cell_type": "code",
   "execution_count": 1,
   "metadata": {},
   "outputs": [
    {
     "name": "stdout",
     "output_type": "stream",
     "text": [
      "이미지 개수 420\n",
      "12586\n"
     ]
    }
   ],
   "source": [
    "import os\n",
    "\n",
    "img = 'data/50salads_image/rgb-01-2'\n",
    "label = 'MS-TCN2/data/50salads/groundTruth/rgb-01-2.txt'\n",
    "label_path = os.path.join(os.getcwd(), label)\n",
    "print(\"이미지 개수\", len(os.listdir(os.path.join(os.getcwd(), img) )))\n",
    "\n",
    "with open(label_path, 'r') as f:\n",
    "    lab = f.read().split('\\n')\n",
    "print(len(lab))"
   ]
  },
  {
   "cell_type": "code",
   "execution_count": 44,
   "metadata": {},
   "outputs": [],
   "source": [
    "import os\n",
    "import torch\n",
    "import torch.nn as nn\n",
    "import numpy as np\n",
    "import time\n",
    "\n",
    "from model import get_pretrained_model\n",
    "from dataset import jpg2np, get_loader\n",
    "from torchvision import models\n",
    "from bezier.hazmat.curve_helpers import evaluate_hodograph, get_curvature"
   ]
  },
  {
   "cell_type": "code",
   "execution_count": 33,
   "metadata": {},
   "outputs": [
    {
     "data": {
      "text/plain": [
       "torch.Size([30, 3, 240, 320])"
      ]
     },
     "execution_count": 33,
     "metadata": {},
     "output_type": "execute_result"
    }
   ],
   "source": [
    "x = np.random.rand( 30, 3, 240, 320)\n",
    "x = torch.from_numpy(x).float()\n",
    "x.shape"
   ]
  },
  {
   "cell_type": "code",
   "execution_count": 54,
   "metadata": {},
   "outputs": [
    {
     "data": {
      "text/plain": [
       "(torch.Size([30, 101]), (30, 1), (30, 1))"
      ]
     },
     "execution_count": 54,
     "metadata": {},
     "output_type": "execute_result"
    }
   ],
   "source": [
    "#############################\n",
    "########  Network   #########\n",
    "#############################\n",
    "import bezier \n",
    "class Network(nn.Module):\n",
    "    def __init__(self):\n",
    "        super(Network, self).__init__()\n",
    "        vgg16 = models.vgg16(pretrained=True)\n",
    "        \n",
    "        self.num_frames = 30\n",
    "        \n",
    "        self.embedding = vgg16.features\n",
    "        \n",
    "        self.spatial = nn.Linear(512, 101)\n",
    "        self.temporal_1 = nn.Linear(512, 3)\n",
    "        self.temporal_2 = nn.Linear(3, 1)\n",
    "        \n",
    "    def forward(self, x):\n",
    "        \n",
    "        embeddings = self.embedding(x)\n",
    "        embeddings = nn.AdaptiveAvgPool2d((1,1))(embeddings).squeeze() \n",
    "        \n",
    "        temporal_embeddings = self.temporal_1(embeddings)\n",
    "        \n",
    "        \n",
    "        # Predict Img Class\n",
    "        y1_hat = self.spatial(embeddings)\n",
    "        \n",
    "        \n",
    "        # Predict the Curvature\n",
    "        y2_hat = self.temporal_2(temporal_embeddings)\n",
    "        \n",
    "        \n",
    "        # Calculate the true Curvature\n",
    "        temporal_embeddings = temporal_embeddings.detach().numpy()\n",
    "        curve = self.bezier(temporal_embeddings)\n",
    "\n",
    "        y2 = self.curvature(temporal_embeddings, curve)\n",
    "        \n",
    "        return y1_hat, y2_hat, y2\n",
    "    \n",
    "    \n",
    "    def bezier(self, control_points):\n",
    "        return bezier.Curve.from_nodes(control_points.T)\n",
    "    \n",
    "    \n",
    "    def curvature(self, embeddings, curve):\n",
    "        kappa = []\n",
    "        for s in range(self.num_frames):\n",
    "            t = s / self.num_frames\n",
    "            tangent_vec = curve.evaluate_hodograph(t)\n",
    "            kappa.append(get_curvature(embeddings, tangent_vec, t))\n",
    "            \n",
    "        return np.array(kappa).reshape(-1, 1)\n",
    "    \n",
    "net = Network()\n",
    "y1_hat, y2_hat, y2 = net(x)\n",
    "\n",
    "y1.shape, y2.shape, y2.shape"
   ]
  },
  {
   "cell_type": "code",
   "execution_count": null,
   "metadata": {},
   "outputs": [],
   "source": []
  },
  {
   "cell_type": "code",
   "execution_count": null,
   "metadata": {},
   "outputs": [],
   "source": []
  },
  {
   "cell_type": "code",
   "execution_count": null,
   "metadata": {},
   "outputs": [],
   "source": []
  },
  {
   "cell_type": "code",
   "execution_count": 2,
   "metadata": {},
   "outputs": [
    {
     "data": {
      "text/plain": [
       "'/home/smsm8898/workspace'"
      ]
     },
     "execution_count": 2,
     "metadata": {},
     "output_type": "execute_result"
    }
   ],
   "source": [
    "os.getcwd()"
   ]
  },
  {
   "cell_type": "code",
   "execution_count": 10,
   "metadata": {},
   "outputs": [
    {
     "data": {
      "text/plain": [
       "(array([[0. , 0.5, 1. ],\n",
       "        [0. , 1. , 0. ]]),\n",
       " array([[0.10857867, 0.91000047, 0.95837665, 0.52487359, 0.15137667],\n",
       "        [0.24534266, 0.24363021, 0.93275927, 0.92501138, 0.09469432],\n",
       "        [0.14211507, 0.83182529, 0.14368299, 0.27119706, 0.81995784]]))"
      ]
     },
     "execution_count": 10,
     "metadata": {},
     "output_type": "execute_result"
    }
   ],
   "source": [
    "import numpy as np\n",
    "\n",
    "nodes1 = np.asfortranarray([\n",
    "    [0.0, 0.5, 1.0],\n",
    "    [0.0, 1.0, 0.0],\n",
    "])\n",
    "\n",
    "nodes2 = np.random.rand(3,5)\n",
    "nodes1, nodes2"
   ]
  },
  {
   "cell_type": "code",
   "execution_count": 15,
   "metadata": {},
   "outputs": [],
   "source": [
    "v_HorseRace_g07_c06\n",
    "import bezier\n",
    "# curve1 = bezier.Curve(nodes1, degree=2)\n",
    "curve2 = bezier.Curve(nodes2, degree=4)"
   ]
  },
  {
   "cell_type": "code",
   "execution_count": 18,
   "metadata": {},
   "outputs": [
    {
     "ename": "NotImplementedError",
     "evalue": "('2D is the only supported dimension', 'Current dimension', 3)",
     "output_type": "error",
     "traceback": [
      "\u001b[0;31m---------------------------------------------------------------------------\u001b[0m",
      "\u001b[0;31mNotImplementedError\u001b[0m                       Traceback (most recent call last)",
      "\u001b[0;32m<ipython-input-18-caf7dde0cae2>\u001b[0m in \u001b[0;36m<module>\u001b[0;34m\u001b[0m\n\u001b[1;32m      9\u001b[0m \u001b[0;34m\u001b[0m\u001b[0m\n\u001b[1;32m     10\u001b[0m \u001b[0;31m# ax = curve1.plot(num_pts=256)\u001b[0m\u001b[0;34m\u001b[0m\u001b[0;34m\u001b[0m\u001b[0;34m\u001b[0m\u001b[0m\n\u001b[0;32m---> 11\u001b[0;31m \u001b[0m_\u001b[0m \u001b[0;34m=\u001b[0m \u001b[0mcurve2\u001b[0m\u001b[0;34m.\u001b[0m\u001b[0mplot\u001b[0m\u001b[0;34m(\u001b[0m\u001b[0mnum_pts\u001b[0m\u001b[0;34m=\u001b[0m\u001b[0;36m256\u001b[0m\u001b[0;34m)\u001b[0m\u001b[0;34m\u001b[0m\u001b[0;34m\u001b[0m\u001b[0m\n\u001b[0m",
      "\u001b[0;32m~/libraries/anaconda3/envs/ms-tcn/lib/python3.7/site-packages/bezier/curve.py\u001b[0m in \u001b[0;36mplot\u001b[0;34m(self, num_pts, color, alpha, ax)\u001b[0m\n\u001b[1;32m    327\u001b[0m                 \u001b[0;34m\"2D is the only supported dimension\"\u001b[0m\u001b[0;34m,\u001b[0m\u001b[0;34m\u001b[0m\u001b[0;34m\u001b[0m\u001b[0m\n\u001b[1;32m    328\u001b[0m                 \u001b[0;34m\"Current dimension\"\u001b[0m\u001b[0;34m,\u001b[0m\u001b[0;34m\u001b[0m\u001b[0;34m\u001b[0m\u001b[0m\n\u001b[0;32m--> 329\u001b[0;31m                 \u001b[0mself\u001b[0m\u001b[0;34m.\u001b[0m\u001b[0m_dimension\u001b[0m\u001b[0;34m,\u001b[0m\u001b[0;34m\u001b[0m\u001b[0;34m\u001b[0m\u001b[0m\n\u001b[0m\u001b[1;32m    330\u001b[0m             )\n\u001b[1;32m    331\u001b[0m \u001b[0;34m\u001b[0m\u001b[0m\n",
      "\u001b[0;31mNotImplementedError\u001b[0m: ('2D is the only supported dimension', 'Current dimension', 3)"
     ]
    }
   ],
   "source": [
    "#############################\n",
    "########  Network   #########\n",
    "#############################\n",
    "import bezier \n",
    "class Network(nn.Module):\n",
    "    def __init__(self):\n",
    "        super(Network, self).__init__()\n",
    "        vgg16 = models.vgg16(pretrained=False)\n",
    "        \n",
    "        self.num_frames = 30\n",
    "        \n",
    "        self.embedding = vgg16.features\n",
    "        \n",
    "        self.spatial = nn.Linear(512, 101)\n",
    "        self.temporal_1 = nn.Linear(512, 3)\n",
    "        self.temporal_2 = nn.Linear(3, 1)\n",
    "        \n",
    "    def forward(self, x):\n",
    "        try:\n",
    "            embeddings = self.embedding(x)\n",
    "            embeddings = nn.AdaptiveAvgPool2d((1,1))(embeddings).squeeze() \n",
    "\n",
    "            temporal_embeddings = self.temporal_1(embeddings)\n",
    "\n",
    "\n",
    "            # Predict Img Class\n",
    "            y1_hat = self.spatial(embeddings)\n",
    "\n",
    "\n",
    "            # Predict the Curvature\n",
    "            y2_hat = self.temporal_2(temporal_embeddings)\n",
    "\n",
    "\n",
    "            # Calculate the true Curvature\n",
    "            temporal_embeddings = temporal_embeddings.cpu().detach().numpy()\n",
    "            curve = self.bezier(temporal_embeddings)\n",
    "\n",
    "            y2 = self.curvature(temporal_embeddings, curve)\n",
    "        except:\n",
    "            import pdb; pdb.set_trace()\n",
    "        \n",
    "        return y1_hat, y2_hat, y2, temporal_embeddings\n",
    "    \n",
    "    \n",
    "    def bezier(self, control_points):\n",
    "        import bezier\n",
    "        \n",
    "        return bezier.Curve.from_nodes(control_points.T)\n",
    "    \n",
    "    \n",
    "    def curvature(self, embeddings, curve):\n",
    "        kappa = []\n",
    "        for s in range(self.num_frames):\n",
    "            t = s / self.num_frames\n",
    "            tangent_vec = curve.evaluate_hodograph(t)\n",
    "            kappa.append(get_curvature(embeddings.T, tangent_vec, t))\n",
    "#             kappa.append(get_curvature(embeddings, tangent_vec, t))\n",
    "            \n",
    "        return np.array(kappa).reshape(-1, 1)\n",
    "    \n",
    "net = Network().to(device)"
   ]
  },
  {
   "cell_type": "code",
   "execution_count": 5,
   "metadata": {},
   "outputs": [
    {
     "data": {
      "text/plain": [
       "<Curve (degree=2, dimension=2)>"
      ]
     },
     "execution_count": 5,
     "metadata": {},
     "output_type": "execute_result"
    }
   ],
   "source": [
    "import bezier\n",
    "import numpy as np\n",
    "\n",
    "node1 = np.random.rand(2,3)\n",
    "bezier.Curve.from_nodes(node1)"
   ]
  },
  {
   "cell_type": "code",
   "execution_count": null,
   "metadata": {},
   "outputs": [],
   "source": []
  },
  {
   "cell_type": "code",
   "execution_count": null,
   "metadata": {},
   "outputs": [],
   "source": []
  },
  {
   "cell_type": "code",
   "execution_count": null,
   "metadata": {},
   "outputs": [],
   "source": []
  },
  {
   "cell_type": "code",
   "execution_count": null,
   "metadata": {},
   "outputs": [],
   "source": []
  },
  {
   "cell_type": "code",
   "execution_count": null,
   "metadata": {},
   "outputs": [],
   "source": []
  },
  {
   "cell_type": "code",
   "execution_count": 72,
   "metadata": {},
   "outputs": [
    {
     "name": "stdout",
     "output_type": "stream",
     "text": [
      "[[ 1.51362376  1.38647317 -0.47260776  1.99306738 -0.64409585 -0.4530233\n",
      "  -1.77279458 -0.78694591  0.31579959 -1.65198966]\n",
      " [-1.14214444 -1.39071307 -1.3870273  -0.53925862 -0.62350208 -1.29843731\n",
      "   2.71039917  1.59070718 -0.59364881 -0.99026633]]\n"
     ]
    },
    {
     "data": {
      "text/plain": [
       "[<matplotlib.lines.Line2D at 0x7fc01cc7f790>]"
      ]
     },
     "execution_count": 72,
     "metadata": {},
     "output_type": "execute_result"
    },
    {
     "data": {
      "image/png": "[encoded data removed]",
      "text/plain": [
       "<Figure size 432x288 with 1 Axes>"
      ]
     },
     "metadata": {
      "needs_background": "light"
     },
     "output_type": "display_data"
    }
   ],
   "source": [
    "num_samples = 2 \n",
    "dimension = 10\n",
    "\n",
    "\n",
    "sample_vector = np.random.randn(num_samples, dimension)\n",
    "curve = bezier.Curve.from_nodes(sample_vector)\n",
    "print(sample_vector)\n",
    "\n",
    "# plot method is only supported as dimension 2\n",
    "num_pts = dimension\n",
    "ax = curve.plot(num_pts=num_pts) \n",
    "\n",
    "\n",
    "ax.plot(\n",
    "    sample_vector[0, :], sample_vector[1, :],\n",
    "    marker=\"o\", linestyle=\"None\", color=\"black\")"
   ]
  },
  {
   "cell_type": "code",
   "execution_count": 81,
   "metadata": {},
   "outputs": [
    {
     "data": {
      "text/plain": [
       "<Curve (degree=99, dimension=300)>"
      ]
     },
     "execution_count": 81,
     "metadata": {},
     "output_type": "execute_result"
    }
   ],
   "source": [
    "num_samples = 300 # sample 수\n",
    "dimension = 100 # 차원 수\n",
    "\n",
    "\n",
    "sample_vector = np.random.rand(num_samples, dimension)\n",
    "curve = bezier.Curve.from_nodes(sample_vector)\n",
    "\n",
    "curve\n",
    "# plot method is only supported as dimension 2\n",
    "# num_pts = degree\n",
    "# ax = curve.plot(num_pts=num_pts) "
   ]
  },
  {
   "cell_type": "code",
   "execution_count": 85,
   "metadata": {},
   "outputs": [
    {
     "data": {
      "text/plain": [
       "(300, 100)"
      ]
     },
     "execution_count": 85,
     "metadata": {},
     "output_type": "execute_result"
    }
   ],
   "source": []
  },
  {
   "cell_type": "code",
   "execution_count": null,
   "metadata": {},
   "outputs": [],
   "source": []
  },
  {
   "cell_type": "code",
   "execution_count": null,
   "metadata": {},
   "outputs": [],
   "source": []
  },
  {
   "cell_type": "code",
   "execution_count": null,
   "metadata": {},
   "outputs": [],
   "source": []
  },
  {
   "cell_type": "code",
   "execution_count": null,
   "metadata": {},
   "outputs": [],
   "source": []
  },
  {
   "cell_type": "code",
   "execution_count": null,
   "metadata": {},
   "outputs": [],
   "source": []
  },
  {
   "cell_type": "code",
   "execution_count": null,
   "metadata": {},
   "outputs": [],
   "source": []
  },
  {
   "cell_type": "markdown",
   "metadata": {},
   "source": [
    "- tangent_vec -> 각 점에서 베이지어 커브의 tanget 값\n",
    "- s -> 보간율"
   ]
  },
  {
   "cell_type": "code",
   "execution_count": 193,
   "metadata": {},
   "outputs": [
    {
     "name": "stdout",
     "output_type": "stream",
     "text": [
      "(300, 100)\n",
      "<Curve (degree=99, dimension=300)>\n",
      "(300, 1)\n"
     ]
    },
    {
     "data": {
      "text/plain": [
       "0.010367071035992883"
      ]
     },
     "execution_count": 193,
     "metadata": {},
     "output_type": "execute_result"
    }
   ],
   "source": [
    "dimension = 300\n",
    "nodes = 100\n",
    "\n",
    "sample_vector = np.random.rand(dimension, nodes)\n",
    "print(sample_vector.shape)\n",
    "\n",
    "\n",
    "\n",
    "curve = bezier.Curve.from_nodes(sample_vector)\n",
    "print(curve)\n",
    "\n",
    "s = 0.5 # interpolate rate\n",
    "tangent_vec = curve.evaluate_hodograph(s)\n",
    "print(tangent_vec.shape)\n",
    "# Evaluate the tangent vector B′(s) along the curve.\n",
    "\n",
    "\n",
    "from bezier.hazmat.curve_helpers import get_curvature\n",
    "curvature = get_curvature(sample_vector, tangent_vec, s)\n",
    "curvature\n"
   ]
  },
  {
   "cell_type": "code",
   "execution_count": 195,
   "metadata": {},
   "outputs": [
    {
     "data": {
      "text/plain": [
       "(300, 1)"
      ]
     },
     "execution_count": 195,
     "metadata": {},
     "output_type": "execute_result"
    }
   ],
   "source": [
    "tangent_vec.shape"
   ]
  },
  {
   "cell_type": "markdown",
   "metadata": {},
   "source": [
    "2. 베지어 곡선의 성질은 여러가지가 있는데, 대표적으로\n",
    "\n",
    " \n",
    "\n",
    "1) 시작점:t=0일 때, p_0점\n",
    "\n",
    "2) 끝점:t=1일 때, p_N점\n",
    "\n",
    "3) 시작점에서 접선은 p_0, p_1의 변위와 평행\n",
    "\n",
    "4) 끝점에서 접선은 p_N-1, p_N의 변위와 평행\n",
    "\n",
    "5) 언제나 조정점들의 convex hull안에 들어간다.\n",
    "\n",
    "6) 조정점들 중 여러 개를 같은 좌표로 설정하면, 그 부분에서 convex hull에 점점 가까워진다. 즉, 곡률이 더 심해진다.\n",
    "\n",
    "\n",
    "\n",
    "출처: https://3dmpengines.tistory.com/784 [3DMP]"
   ]
  },
  {
   "cell_type": "code",
   "execution_count": 9,
   "metadata": {},
   "outputs": [],
   "source": [
    "from bezier.hazmat.curve_helpers import evaluate_hodograph, evaluate_multi\n",
    "from bezier.hazmat.curve_helpers import get_curvature\n",
    "from bezier.hazmat import helpers as _py_helpers\n",
    "def get_curvature(nodes, tangent_vec, s):\n",
    "    \"\"\"\n",
    "    일단 taylor expansion의 2차항 까지 사용\n",
    "    tangent -> 도합수\n",
    "    concavity -> 이계도함수\n",
    "    \n",
    "    \"\"\"\n",
    "    _, num_nodes = np.shape(nodes)\n",
    "    if num_nodes == 2:  # Lines have no curvature.\n",
    "        return 0.0\n",
    "\n",
    "    # NOTE: We somewhat replicate code in ``evaluate_hodograph()`` here.\n",
    "    first_deriv = nodes[:, 1:] - nodes[:, :-1]\n",
    "    second_deriv = first_deriv[:, 1:] - first_deriv[:, :-1]\n",
    "    concavity = (\n",
    "        (num_nodes - 1)\n",
    "        * (num_nodes - 2)\n",
    "        * evaluate_multi(second_deriv, np.asfortranarray([s]))\n",
    "    )\n",
    "\n",
    "    curvature = _py_helpers.cross_product( # ravel -> flatten느낌의 reshape\n",
    "        tangent_vec.ravel(order=\"F\"), concavity.ravel(order=\"F\") # 분자\n",
    "    )\n",
    "    # NOTE: We convert to 1D to make sure NumPy uses vector norm.\n",
    "    curvature /= np.linalg.norm(tangent_vec[:, 0], ord=2) ** 3 # BA\n",
    "    return curvature"
   ]
  },
  {
   "cell_type": "code",
   "execution_count": 290,
   "metadata": {},
   "outputs": [],
   "source": [
    "k = list()\n",
    "for s in range(100):\n",
    "    t = s / 100.\n",
    "    k.append(get_curvature(sample_vector, tangent_vec, t))"
   ]
  },
  {
   "cell_type": "code",
   "execution_count": 293,
   "metadata": {},
   "outputs": [
    {
     "data": {
      "text/plain": [
       "(300, 100)"
      ]
     },
     "execution_count": 293,
     "metadata": {},
     "output_type": "execute_result"
    }
   ],
   "source": [
    "sample_vector.shape"
   ]
  },
  {
   "cell_type": "code",
   "execution_count": 169,
   "metadata": {},
   "outputs": [
    {
     "data": {
      "text/plain": [
       "array([1., 1., 1., 1., 1., 1., 1., 1., 1., 1.])"
      ]
     },
     "execution_count": 169,
     "metadata": {},
     "output_type": "execute_result"
    }
   ],
   "source": [
    "def sample_spherical(npoints, ndim=2):\n",
    "    vec = np.random.randn(ndim, npoints)/10\n",
    "    vec /= np.linalg.norm(vec, axis=0)\n",
    "    return vec\n",
    "\n",
    "\n",
    "x,y = sample_spherical(10)\n",
    "x, y = np.abs(x), np.abs(y)\n",
    "# x.sort(), y.sort()\n",
    "x**2 + y**2"
   ]
  },
  {
   "cell_type": "code",
   "execution_count": 170,
   "metadata": {},
   "outputs": [
    {
     "name": "stdout",
     "output_type": "stream",
     "text": [
      "(2, 10)\n",
      "<Curve (degree=9, dimension=2)>\n"
     ]
    }
   ],
   "source": [
    "circle = np.array([x, y])\n",
    "\n",
    "print(circle.shape)\n",
    "curve = bezier.Curve.from_nodes(circle)\n",
    "print(curve)\n",
    "circle.sort(axis=1)"
   ]
  },
  {
   "cell_type": "code",
   "execution_count": 171,
   "metadata": {},
   "outputs": [
    {
     "data": {
      "text/plain": [
       "<AxesSubplot:>"
      ]
     },
     "execution_count": 171,
     "metadata": {},
     "output_type": "execute_result"
    },
    {
     "data": {
      "image/png": "[encoded data removed]",
      "text/plain": [
       "<Figure size 432x288 with 1 Axes>"
      ]
     },
     "metadata": {
      "needs_background": "light"
     },
     "output_type": "display_data"
    },
    {
     "data": {
      "image/png": "[encoded data removed]",
      "text/plain": [
       "<Figure size 432x288 with 1 Axes>"
      ]
     },
     "metadata": {
      "needs_background": "light"
     },
     "output_type": "display_data"
    }
   ],
   "source": [
    "# x_ = np.linspace(-1, 1, 500)\n",
    "# y_ = np.sqrt(1 - x_**2)\n",
    "y__ = -y_\n",
    "plt.scatter(x_, y_, color='r', alpha=0.01)\n",
    "plt.scatter(x_, y__, color='r', alpha=0.01)\n",
    "\n",
    "plt.scatter(x,y)\n",
    "plt.plot(x,y)\n",
    "plt.xlim([-1.5,1.5])\n",
    "plt.ylim([-1.5,1.5])\n",
    "curve.plot(num_pts=500)\n",
    "\n"
   ]
  },
  {
   "cell_type": "code",
   "execution_count": null,
   "metadata": {},
   "outputs": [],
   "source": []
  },
  {
   "cell_type": "code",
   "execution_count": 147,
   "metadata": {},
   "outputs": [],
   "source": [
    "from bezier.hazmat.curve_helpers import evaluate_hodograph, evaluate_multi\n",
    "from bezier.hazmat.curve_helpers import get_curvature\n",
    "from bezier.hazmat import helpers as _py_helpers\n",
    "\n",
    "k = list()\n",
    "for s in range(10):\n",
    "    t = s / 10.\n",
    "    tangent_vec = curve.evaluate_hodograph(t)\n",
    "    k.append(get_curvature(circle, tangent_vec, t))"
   ]
  },
  {
   "cell_type": "code",
   "execution_count": 148,
   "metadata": {},
   "outputs": [
    {
     "data": {
      "text/plain": [
       "[0.959073353860692,\n",
       " 1.8631191281611235,\n",
       " 3.021833828964151,\n",
       " 18.94486415413074,\n",
       " 61.553408134204226,\n",
       " 11.671951724653841,\n",
       " 0.8350045227466336,\n",
       " 0.46703638065357417,\n",
       " -0.3634265966029687,\n",
       " -0.31741429752155825]"
      ]
     },
     "execution_count": 148,
     "metadata": {},
     "output_type": "execute_result"
    }
   ],
   "source": [
    "k"
   ]
  },
  {
   "cell_type": "code",
   "execution_count": 193,
   "metadata": {},
   "outputs": [
    {
     "data": {
      "text/plain": [
       "Text(0.5, 1.0, 'Bezier Approximation')"
      ]
     },
     "execution_count": 193,
     "metadata": {},
     "output_type": "execute_result"
    },
    {
     "data": {
      "image/png": "[encoded data removed]",
      "text/plain": [
       "<Figure size 432x288 with 1 Axes>"
      ]
     },
     "metadata": {
      "needs_background": "light"
     },
     "output_type": "display_data"
    },
    {
     "data": {
      "image/png": "[encoded data removed]",
      "text/plain": [
       "<Figure size 432x288 with 1 Axes>"
      ]
     },
     "metadata": {
      "needs_background": "light"
     },
     "output_type": "display_data"
    }
   ],
   "source": [
    "x = np.linspace(-1, 1, 30)\n",
    "y = np.sqrt(1 - x**2)\n",
    "\n",
    "circle = np.array([x, y])\n",
    "curve = bezier.Curve.from_nodes(circle)\n",
    "\n",
    "plt.scatter(x,y,color='r')\n",
    "plt.plot(x,y)\n",
    "plt.xlim([-1.5,1.5])\n",
    "plt.ylim([0,1.5])\n",
    "plt.title(\"Sampling 30 points from Circle\")\n",
    "curve.plot(num_pts=30)\n",
    "plt.title(\"Bezier Approximation\")"
   ]
  },
  {
   "cell_type": "code",
   "execution_count": 207,
   "metadata": {},
   "outputs": [
    {
     "name": "stdout",
     "output_type": "stream",
     "text": [
      "The curvature 0.290 at t = 0.00\n",
      "The curvature 0.782 at t = 0.05\n",
      "The curvature 1.083 at t = 0.10\n",
      "The curvature 1.096 at t = 0.15\n",
      "The curvature 1.055 at t = 0.20\n",
      "The curvature 1.033 at t = 0.25\n",
      "The curvature 1.025 at t = 0.30\n",
      "The curvature 1.022 at t = 0.35\n",
      "The curvature 1.021 at t = 0.40\n",
      "The curvature 1.020 at t = 0.45\n",
      "The curvature 1.020 at t = 0.50\n",
      "The curvature 1.020 at t = 0.55\n",
      "The curvature 1.021 at t = 0.60\n",
      "The curvature 1.022 at t = 0.65\n",
      "The curvature 1.025 at t = 0.70\n",
      "The curvature 1.033 at t = 0.75\n",
      "The curvature 1.055 at t = 0.80\n",
      "The curvature 1.096 at t = 0.85\n",
      "The curvature 1.083 at t = 0.90\n",
      "The curvature 0.782 at t = 0.95\n"
     ]
    }
   ],
   "source": [
    "k = list()\n",
    "num = 20\n",
    "for s in range(num):\n",
    "    t = s / num\n",
    "    tangent_vec = curve.evaluate_hodograph(t)\n",
    "    k.append(get_curvature(circle, tangent_vec, t))\n",
    "    print(\"The curvature {:.3f} at t = {:.2f}\".format(abs(k[s]), t))\n",
    "    \n"
   ]
  },
  {
   "cell_type": "code",
   "execution_count": 201,
   "metadata": {},
   "outputs": [
    {
     "data": {
      "text/plain": [
       "float"
      ]
     },
     "execution_count": 201,
     "metadata": {},
     "output_type": "execute_result"
    }
   ],
   "source": []
  },
  {
   "cell_type": "code",
   "execution_count": null,
   "metadata": {},
   "outputs": [],
   "source": []
  }
 ],
 "metadata": {
  "kernelspec": {
   "display_name": "ms-tcn",
   "language": "python",
   "name": "ms-tcn"
  },
  "language_info": {
   "codemirror_mode": {
    "name": "ipython",
    "version": 3
   },
   "file_extension": ".py",
   "mimetype": "text/x-python",
   "name": "python",
   "nbconvert_exporter": "python",
   "pygments_lexer": "ipython3",
   "version": "3.7.10"
  }
 },
 "nbformat": 4,
 "nbformat_minor": 4
}
